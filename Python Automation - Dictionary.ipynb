{
 "cells": [
  {
   "cell_type": "code",
   "execution_count": null,
   "id": "21a3fdaf",
   "metadata": {},
   "outputs": [],
   "source": [
    "#Convert List to Dictionary"
   ]
  },
  {
   "cell_type": "code",
   "execution_count": 1,
   "id": "72117c98",
   "metadata": {
    "scrolled": true
   },
   "outputs": [
    {
     "name": "stdout",
     "output_type": "stream",
     "text": [
      "['one', 'two', 'three']\n"
     ]
    }
   ],
   "source": [
    "abd1 = ['one', 'two', 'three']\n",
    "print(abd1)"
   ]
  },
  {
   "cell_type": "code",
   "execution_count": 2,
   "id": "27d43fb5",
   "metadata": {},
   "outputs": [
    {
     "name": "stdout",
     "output_type": "stream",
     "text": [
      "[1, 2, 3]\n"
     ]
    }
   ],
   "source": [
    "abd2 = [1,2,3]\n",
    "print(abd2)"
   ]
  },
  {
   "cell_type": "code",
   "execution_count": 3,
   "id": "af8b0411",
   "metadata": {},
   "outputs": [
    {
     "name": "stdout",
     "output_type": "stream",
     "text": [
      "<zip object at 0x0000026F6F0A87C0>\n"
     ]
    }
   ],
   "source": [
    "mydata = zip(abd1,abd2)\n",
    "print(mydata)"
   ]
  },
  {
   "cell_type": "code",
   "execution_count": 4,
   "id": "9309c9bb",
   "metadata": {},
   "outputs": [
    {
     "name": "stdout",
     "output_type": "stream",
     "text": [
      "{'one': 1, 'two': 2, 'three': 3}\n"
     ]
    }
   ],
   "source": [
    "print(dict(mydata))"
   ]
  },
  {
   "cell_type": "code",
   "execution_count": 5,
   "id": "3a2acf5a",
   "metadata": {
    "scrolled": true
   },
   "outputs": [
    {
     "name": "stdout",
     "output_type": "stream",
     "text": [
      "{1: 'one', 2: 'two', 3: 'three'}\n"
     ]
    }
   ],
   "source": [
    "mydata2 = zip(abd2,abd1)\n",
    "print(dict(mydata2))"
   ]
  },
  {
   "cell_type": "code",
   "execution_count": null,
   "id": "3569a9a7",
   "metadata": {},
   "outputs": [],
   "source": [
    "#Use fromkeys for Dictionary"
   ]
  },
  {
   "cell_type": "code",
   "execution_count": 6,
   "id": "ac7060d8",
   "metadata": {},
   "outputs": [
    {
     "name": "stdout",
     "output_type": "stream",
     "text": [
      "['a', 'e', 'i', 'o', 'u']\n",
      "{'a': 'vowel', 'e': 'vowel', 'i': 'vowel', 'o': 'vowel', 'u': 'vowel'}\n"
     ]
    }
   ],
   "source": [
    "abd3 = ['a', 'e', 'i', 'o', 'u']\n",
    "print(abd3)\n",
    "values = 'vowel'\n",
    "mydata3 = dict.fromkeys(abd3, values)\n",
    "print(mydata3)"
   ]
  },
  {
   "cell_type": "code",
   "execution_count": 8,
   "id": "e265a804",
   "metadata": {},
   "outputs": [
    {
     "name": "stdout",
     "output_type": "stream",
     "text": [
      "{'username': 'ABD'}\n"
     ]
    }
   ],
   "source": [
    "#use setdefault for dictionary\n",
    "username = {}\n",
    "username.setdefault(\"username\",\"ABD\")\n",
    "print(username)"
   ]
  },
  {
   "cell_type": "code",
   "execution_count": 9,
   "id": "06826f16",
   "metadata": {},
   "outputs": [
    {
     "name": "stdout",
     "output_type": "stream",
     "text": [
      "{'username': 'ABD', 'password': 'ABD@1234'}\n"
     ]
    }
   ],
   "source": [
    "username.setdefault(\"password\", \"ABD@1234\")\n",
    "print(username)"
   ]
  },
  {
   "cell_type": "code",
   "execution_count": 11,
   "id": "63412782",
   "metadata": {},
   "outputs": [
    {
     "name": "stdout",
     "output_type": "stream",
     "text": [
      "{'username': 'ABD', 'password': 'ABD@1234', 'username2': 'shamir'}\n"
     ]
    }
   ],
   "source": [
    "username.setdefault(\"username2\", \"shamir\")\n",
    "print(username)"
   ]
  },
  {
   "cell_type": "code",
   "execution_count": 12,
   "id": "adf19bd8",
   "metadata": {},
   "outputs": [
    {
     "name": "stdout",
     "output_type": "stream",
     "text": [
      "{1: 3, 5: 10}\n"
     ]
    }
   ],
   "source": [
    "dict1={1:3,5:10}\n",
    "print(dict1)"
   ]
  },
  {
   "cell_type": "code",
   "execution_count": 13,
   "id": "d87d875e",
   "metadata": {},
   "outputs": [
    {
     "data": {
      "text/plain": [
       "5"
      ]
     },
     "execution_count": 13,
     "metadata": {},
     "output_type": "execute_result"
    }
   ],
   "source": [
    "max(dict1)"
   ]
  },
  {
   "cell_type": "code",
   "execution_count": 14,
   "id": "179c8f86",
   "metadata": {},
   "outputs": [],
   "source": [
    "#SORTED"
   ]
  },
  {
   "cell_type": "code",
   "execution_count": 15,
   "id": "91a1fa31",
   "metadata": {},
   "outputs": [
    {
     "name": "stdout",
     "output_type": "stream",
     "text": [
      "{'username': 'ABD', 'password': 'ABD@1234'}\n"
     ]
    }
   ],
   "source": [
    "cred = {'username':'ABD', 'password':'ABD@1234'}\n",
    "print(cred)"
   ]
  },
  {
   "cell_type": "code",
   "execution_count": 17,
   "id": "dbad1186",
   "metadata": {},
   "outputs": [
    {
     "name": "stdout",
     "output_type": "stream",
     "text": [
      "['password', 'username']\n"
     ]
    }
   ],
   "source": [
    "print(sorted(cred))"
   ]
  },
  {
   "cell_type": "code",
   "execution_count": 18,
   "id": "5b4860ff",
   "metadata": {},
   "outputs": [
    {
     "name": "stdout",
     "output_type": "stream",
     "text": [
      "{'username': 'ABD', 'password': 'ABD@1234', 'ABD': 'abd'}\n"
     ]
    }
   ],
   "source": [
    "cred = {'username':'ABD', 'password':'ABD@1234', 'ABD':'abd' }\n",
    "print(cred)"
   ]
  },
  {
   "cell_type": "code",
   "execution_count": 19,
   "id": "8a614d7b",
   "metadata": {},
   "outputs": [
    {
     "name": "stdout",
     "output_type": "stream",
     "text": [
      "['ABD', 'password', 'username']\n"
     ]
    }
   ],
   "source": [
    "print(sorted(cred))"
   ]
  },
  {
   "cell_type": "code",
   "execution_count": 20,
   "id": "41f61373",
   "metadata": {},
   "outputs": [],
   "source": [
    "# How do i check if keys exists in a dictionary"
   ]
  },
  {
   "cell_type": "code",
   "execution_count": 21,
   "id": "2c2f5b2d",
   "metadata": {},
   "outputs": [
    {
     "name": "stdout",
     "output_type": "stream",
     "text": [
      "{'username': 'ABD', 'password': 'ABD@1234', 'ABD': 'abd'}\n"
     ]
    }
   ],
   "source": [
    "cred = {'username':'ABD', 'password':'ABD@1234', 'ABD':'abd'}\n",
    "print(cred)\n"
   ]
  },
  {
   "cell_type": "code",
   "execution_count": 24,
   "id": "3bb58403",
   "metadata": {},
   "outputs": [
    {
     "name": "stdout",
     "output_type": "stream",
     "text": [
      "ABD\n",
      "Data is present\n"
     ]
    }
   ],
   "source": [
    "if \"ABD\" in cred.values():\n",
    "    print(cred['username'])\n",
    "    print(\"Data is present\")\n",
    "else:\n",
    "    print(\"sorry your data is not available\")"
   ]
  },
  {
   "cell_type": "code",
   "execution_count": 25,
   "id": "b1f95d56",
   "metadata": {},
   "outputs": [
    {
     "name": "stdout",
     "output_type": "stream",
     "text": [
      "ABD\n",
      "Data is present\n"
     ]
    }
   ],
   "source": [
    "if \"username\" in cred:\n",
    "    print(cred['username'])\n",
    "    print(\"Data is present\")\n",
    "else:\n",
    "    print(\"sorry your data is not available\")"
   ]
  },
  {
   "cell_type": "code",
   "execution_count": 26,
   "id": "24eb5c53",
   "metadata": {},
   "outputs": [],
   "source": [
    "# Nested Dictionary:\n",
    "\n"
   ]
  },
  {
   "cell_type": "code",
   "execution_count": 27,
   "id": "5c61b8fc",
   "metadata": {},
   "outputs": [
    {
     "name": "stdout",
     "output_type": "stream",
     "text": [
      "{1: {'uname': 'abd', 'pass': 'ABD@123', 'server1': 'Linux'}, 2: {'uname': 'ali', 'pass': 'ali@123', 'server1': 'AIX'}, 3: {'uname': 'kazim', 'pass': 'kazim@123', 'server1': 'windows'}}\n"
     ]
    }
   ],
   "source": [
    "myinfo = {'username':'ABD', 'password':'ABD@1234'}\n",
    "myinfo = {\n",
    "          1: {'uname':'abd', 'pass':'ABD@123', 'server1':'Linux'},\n",
    "          2: {'uname':'ali', 'pass':'ali@123', 'server1':'AIX'},\n",
    "          3: {'uname':'kazim','pass':'kazim@123', 'server1':'windows'}    \n",
    "}\n",
    "print(myinfo)"
   ]
  },
  {
   "cell_type": "code",
   "execution_count": 28,
   "id": "74e1de81",
   "metadata": {},
   "outputs": [
    {
     "name": "stdout",
     "output_type": "stream",
     "text": [
      "{'uname': 'abd', 'pass': 'ABD@123', 'server1': 'Linux'}\n"
     ]
    }
   ],
   "source": [
    "print(myinfo[1])"
   ]
  },
  {
   "cell_type": "code",
   "execution_count": 29,
   "id": "d3d582d0",
   "metadata": {},
   "outputs": [
    {
     "name": "stdout",
     "output_type": "stream",
     "text": [
      "{'uname': 'ali', 'pass': 'ali@123', 'server1': 'AIX'}\n"
     ]
    }
   ],
   "source": [
    "print(myinfo[2])"
   ]
  },
  {
   "cell_type": "code",
   "execution_count": 30,
   "id": "14c358f5",
   "metadata": {},
   "outputs": [
    {
     "name": "stdout",
     "output_type": "stream",
     "text": [
      "{'uname': 'kazim', 'pass': 'kazim@123', 'server1': 'windows'}\n"
     ]
    }
   ],
   "source": [
    "print(myinfo[3])"
   ]
  },
  {
   "cell_type": "code",
   "execution_count": 31,
   "id": "2e0b3a72",
   "metadata": {},
   "outputs": [
    {
     "name": "stdout",
     "output_type": "stream",
     "text": [
      "kazim@123\n"
     ]
    }
   ],
   "source": [
    "print(myinfo[3]['pass'])"
   ]
  },
  {
   "cell_type": "code",
   "execution_count": 33,
   "id": "e9e4c138",
   "metadata": {},
   "outputs": [
    {
     "name": "stdout",
     "output_type": "stream",
     "text": [
      "dict_keys([1, 2, 3])\n"
     ]
    }
   ],
   "source": [
    "print(myinfo.keys())"
   ]
  },
  {
   "cell_type": "code",
   "execution_count": 34,
   "id": "99098274",
   "metadata": {},
   "outputs": [
    {
     "name": "stdout",
     "output_type": "stream",
     "text": [
      "dict_values([{'uname': 'abd', 'pass': 'ABD@123', 'server1': 'Linux'}, {'uname': 'ali', 'pass': 'ali@123', 'server1': 'AIX'}, {'uname': 'kazim', 'pass': 'kazim@123', 'server1': 'windows'}])\n"
     ]
    }
   ],
   "source": [
    "print(myinfo.values())"
   ]
  },
  {
   "cell_type": "code",
   "execution_count": 35,
   "id": "ad4f25ae",
   "metadata": {},
   "outputs": [
    {
     "name": "stdout",
     "output_type": "stream",
     "text": [
      "3\n"
     ]
    }
   ],
   "source": [
    "print(max(myinfo))"
   ]
  },
  {
   "cell_type": "code",
   "execution_count": 37,
   "id": "a4e86e1d",
   "metadata": {},
   "outputs": [
    {
     "name": "stdout",
     "output_type": "stream",
     "text": [
      "6\n"
     ]
    }
   ],
   "source": [
    "print(sum(myinfo))"
   ]
  },
  {
   "cell_type": "code",
   "execution_count": 39,
   "id": "532f62a5",
   "metadata": {},
   "outputs": [],
   "source": [
    "#Nested Diction with List\n",
    "serverinfo = {\n",
    "          'server1': ['192.168.1.1','192.168.1.2','192.168.1.3'],\n",
    "          'server2': ['192.168.2.1','192.168.2.2','192.168.2.3'],\n",
    "          'server3': ['192.168.3.1','192.168.3.2','192.168.3.3']    \n",
    "}\n"
   ]
  },
  {
   "cell_type": "code",
   "execution_count": 40,
   "id": "6f5926d0",
   "metadata": {},
   "outputs": [
    {
     "name": "stdout",
     "output_type": "stream",
     "text": [
      "{'server1': ['192.168.1.1', '192.168.1.2', '192.168.1.3'], 'server2': ['192.168.2.1', '192.168.2.2', '192.168.2.3'], 'server3': ['192.168.3.1', '192.168.3.2', '192.168.3.3']}\n"
     ]
    }
   ],
   "source": [
    "print(serverinfo)"
   ]
  },
  {
   "cell_type": "code",
   "execution_count": 41,
   "id": "57f126f9",
   "metadata": {},
   "outputs": [
    {
     "name": "stdout",
     "output_type": "stream",
     "text": [
      "['192.168.2.1', '192.168.2.2', '192.168.2.3']\n"
     ]
    }
   ],
   "source": [
    "print(serverinfo['server2'])"
   ]
  },
  {
   "cell_type": "code",
   "execution_count": 42,
   "id": "28ea7153",
   "metadata": {},
   "outputs": [
    {
     "name": "stdout",
     "output_type": "stream",
     "text": [
      "['192.168.3.1', '192.168.3.2', '192.168.3.3']\n"
     ]
    }
   ],
   "source": [
    "print(serverinfo['server3'])"
   ]
  },
  {
   "cell_type": "code",
   "execution_count": 43,
   "id": "348d82eb",
   "metadata": {},
   "outputs": [
    {
     "name": "stdout",
     "output_type": "stream",
     "text": [
      "192.168.1.1\n"
     ]
    }
   ],
   "source": [
    "print(serverinfo['server1'][0])"
   ]
  },
  {
   "cell_type": "code",
   "execution_count": 44,
   "id": "61234f7d",
   "metadata": {},
   "outputs": [
    {
     "name": "stdout",
     "output_type": "stream",
     "text": [
      "192.168.3.3\n"
     ]
    }
   ],
   "source": [
    "print(serverinfo['server3'][2])"
   ]
  },
  {
   "cell_type": "code",
   "execution_count": 46,
   "id": "b3c532bd",
   "metadata": {},
   "outputs": [
    {
     "ename": "KeyError",
     "evalue": "1",
     "output_type": "error",
     "traceback": [
      "\u001b[1;31m---------------------------------------------------------------------------\u001b[0m",
      "\u001b[1;31mKeyError\u001b[0m                                  Traceback (most recent call last)",
      "\u001b[1;32m~\\AppData\\Local\\Temp\\ipykernel_22752\\244705733.py\u001b[0m in \u001b[0;36m<module>\u001b[1;34m\u001b[0m\n\u001b[1;32m----> 1\u001b[1;33m \u001b[0mprint\u001b[0m\u001b[1;33m(\u001b[0m\u001b[0mserverinfo\u001b[0m\u001b[1;33m[\u001b[0m\u001b[1;36m1\u001b[0m\u001b[1;33m]\u001b[0m\u001b[1;33m)\u001b[0m\u001b[1;33m\u001b[0m\u001b[1;33m\u001b[0m\u001b[0m\n\u001b[0m",
      "\u001b[1;31mKeyError\u001b[0m: 1"
     ]
    }
   ],
   "source": [
    "print(serverinfo[1])g"
   ]
  },
  {
   "cell_type": "code",
   "execution_count": 47,
   "id": "5ae7a7f9",
   "metadata": {},
   "outputs": [
    {
     "name": "stdout",
     "output_type": "stream",
     "text": [
      "server1\n"
     ]
    }
   ],
   "source": [
    "print(list(serverinfo.keys())[0])"
   ]
  },
  {
   "cell_type": "code",
   "execution_count": 48,
   "id": "dba07ba0",
   "metadata": {},
   "outputs": [],
   "source": [
    "## Nested Dictionary\n"
   ]
  },
  {
   "cell_type": "code",
   "execution_count": 49,
   "id": "0670abfc",
   "metadata": {},
   "outputs": [],
   "source": [
    "minfo = {\n",
    "      \"server1\":{\n",
    "                 \"IBM\":{\n",
    "                        \"datacenter\":\"Bangalore\",\n",
    "                         \"env\" : {\n",
    "                                 \"PR\": \"192.168.1.1\",\n",
    "                                 \"DR\": \"192.168.1.2\"\n",
    "                                }\n",
    "                         }\n",
    "                \n",
    "                 }\n",
    "}\n"
   ]
  },
  {
   "cell_type": "code",
   "execution_count": 50,
   "id": "93e0ed86",
   "metadata": {},
   "outputs": [
    {
     "name": "stdout",
     "output_type": "stream",
     "text": [
      "Bangalor datacenter PR address is192.168.1.1\n"
     ]
    }
   ],
   "source": [
    "print(\"Bangalor datacenter PR address is \"+minfo[\"server1\"][\"IBM\"][\"env\"][\"PR\"])"
   ]
  },
  {
   "cell_type": "code",
   "execution_count": 51,
   "id": "b68b0951",
   "metadata": {},
   "outputs": [
    {
     "name": "stdout",
     "output_type": "stream",
     "text": [
      "Bangalor datacenter PR address is 192.168.1.2\n"
     ]
    }
   ],
   "source": [
    "print(\"Bangalor datacenter PR address is \"+minfo[\"server1\"][\"IBM\"][\"env\"][\"DR\"])"
   ]
  },
  {
   "cell_type": "code",
   "execution_count": null,
   "id": "4ecfedbd",
   "metadata": {},
   "outputs": [],
   "source": []
  }
 ],
 "metadata": {
  "kernelspec": {
   "display_name": "Python 3 (ipykernel)",
   "language": "python",
   "name": "python3"
  },
  "language_info": {
   "codemirror_mode": {
    "name": "ipython",
    "version": 3
   },
   "file_extension": ".py",
   "mimetype": "text/x-python",
   "name": "python",
   "nbconvert_exporter": "python",
   "pygments_lexer": "ipython3",
   "version": "3.9.13"
  }
 },
 "nbformat": 4,
 "nbformat_minor": 5
}
